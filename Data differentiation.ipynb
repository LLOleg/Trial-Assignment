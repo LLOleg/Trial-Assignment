{
 "cells": [
  {
   "cell_type": "code",
   "execution_count": 1,
   "metadata": {},
   "outputs": [],
   "source": [
    "import os\n",
    "import numpy as np\n",
    "import time\n",
    "import matplotlib.pyplot as plt\n",
    "import pandas as pd\n",
    "import math"
   ]
  },
  {
   "cell_type": "code",
   "execution_count": 2,
   "metadata": {},
   "outputs": [],
   "source": [
    "daily_px_df = pd.read_csv(\"market_data_daily_resample_close.csv\", index_col = 0)  \n",
    "\n",
    "sectors_info = pd.read_csv(\"sectors.csv\")\n",
    "\n",
    "industry_groups = set(sectors_info[\"INDUSTRY_GROUP\"].values)\n",
    "industry_sectors = set(sectors_info[\"INDUSTRY_SECTOR\"].values)\n",
    "industry_subgroups = set(sectors_info[\"INDUSTRY_SUBGROUP\"].values)\n",
    "\n",
    "tickers_per_sector_dict = {}\n",
    "\n",
    "for sector in industry_sectors:\n",
    "    if isinstance(sector, str):\n",
    "        tickers_per_sector_dict[sector] =\\\n",
    "            sectors_info[sectors_info[\"INDUSTRY_SECTOR\"] == sector][\"TICKER\"]\n",
    "            \n",
    "tickers_per_sector_df = pd.DataFrame.from_dict(tickers_per_sector_dict)\n",
    "tickers_per_sector_df.to_csv(\"tickers_per_sector.csv\")\n",
    "\n",
    "\n",
    "tickers_per_subgroup_dict = {}\n",
    "\n",
    "for subgroup in industry_subgroups:\n",
    "    if isinstance(subgroup, str):\n",
    "        tickers_per_subgroup_dict[subgroup] =\\\n",
    "            sectors_info[sectors_info[\"INDUSTRY_SUBGROUP\"] == subgroup][\"TICKER\"]\n",
    "            \n",
    "tickers_per_subgroup_df = pd.DataFrame.from_dict(tickers_per_subgroup_dict)\n",
    "tickers_per_subgroup_df.to_csv(\"tickers_per_subgroup.csv\")\n",
    "\n",
    "\n",
    "tickers_per_group_dict = {}\n",
    "\n",
    "for group in industry_groups:\n",
    "    if isinstance(group, str):\n",
    "        tickers_per_group_dict[group] =\\\n",
    "            sectors_info[sectors_info[\"INDUSTRY_GROUP\"] == group][\"TICKER\"]\n",
    "            \n",
    "tickers_per_group_df = pd.DataFrame.from_dict(tickers_per_group_dict)\n",
    "tickers_per_group_df.to_csv(\"tickers_per_group.csv\")"
   ]
  },
  {
   "cell_type": "code",
   "execution_count": null,
   "metadata": {},
   "outputs": [],
   "source": []
  }
 ],
 "metadata": {
  "kernelspec": {
   "display_name": "Python 3",
   "language": "python",
   "name": "python3"
  },
  "language_info": {
   "codemirror_mode": {
    "name": "ipython",
    "version": 3
   },
   "file_extension": ".py",
   "mimetype": "text/x-python",
   "name": "python",
   "nbconvert_exporter": "python",
   "pygments_lexer": "ipython3",
   "version": "3.6.7"
  }
 },
 "nbformat": 4,
 "nbformat_minor": 2
}

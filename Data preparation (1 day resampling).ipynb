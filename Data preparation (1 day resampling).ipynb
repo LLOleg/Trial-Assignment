{
 "cells": [
  {
   "cell_type": "code",
   "execution_count": null,
   "metadata": {},
   "outputs": [],
   "source": [
    "import os\n",
    "import numpy as np\n",
    "import time\n",
    "import matplotlib.pyplot as plt\n",
    "import pandas as pd\n",
    "import math\n",
    "import pickle\n",
    "\n",
    "\n",
    "def prepare_market_data():\n",
    "    \n",
    "    sectors_info = pd.read_csv(\"sectors.csv\")\n",
    "    tickers = sectors_info[\"TICKER\"].values\n",
    "    dict_close_px = {}\n",
    "    dict_volumes = {}\n",
    "    \n",
    "    for ticker in tickers:\n",
    "        try:\n",
    "            market_data = pd.read_csv(os.path.join(os.path.abspath(\"market_data\"),\\\n",
    "                                                   ticker+\".csv\"), index_col = 0)\n",
    "            market_data = market_data.reindex(pd.to_datetime(market_data.index))\n",
    "            close_px_daily = market_data[\"close\"].resample(\"1D\").last()\n",
    "            volume_daily = market_data[\"volume\"].resample(\"1D\").sum()\n",
    "            dict_close_px[ticker] = close_px_daily\n",
    "            dict_volumes[ticker] = volume_daily\n",
    "            \n",
    "        except Exception as e:\n",
    "            print(e)\n",
    "            \n",
    "    return dict_close_px, dict_volumes\n",
    "    \n",
    "\n",
    "dict_close_px, dict_volumes = prepare_market_data()\n",
    "common_index = dict_close_px[list(dict_close_px.keys())[0]].index\n",
    "\n",
    "for key in dict_close_px.keys():\n",
    "    common_index = common_index.union(dict_close_px[key].index)\n",
    "\n",
    "for key in dict_volumes.keys():\n",
    "    common_index = common_index.union(dict_volumes[key].index)\n",
    "    \n",
    "daily_px_df = pd.DataFrame(index = common_index)\n",
    "\n",
    "for key in dict_close_px.keys():\n",
    "    daily_px_df[key] = dict_close_px[key]\n",
    "    \n",
    "daily_volume_df = pd.DataFrame(index = common_index)\n",
    "\n",
    "for key in dict_volumes.keys():\n",
    "    daily_volume_df[key] = dict_volumes[key]\n",
    "    \n",
    "daily_px_df.to_csv(\"market_data_daily_resample_close.csv\")  \n",
    "daily_volume_df.to_csv(\"market_data_daily_resample_volume.csv\")  "
   ]
  }
 ],
 "metadata": {
  "kernelspec": {
   "display_name": "Python 3",
   "language": "python",
   "name": "python3"
  },
  "language_info": {
   "codemirror_mode": {
    "name": "ipython",
    "version": 3
   },
   "file_extension": ".py",
   "mimetype": "text/x-python",
   "name": "python",
   "nbconvert_exporter": "python",
   "pygments_lexer": "ipython3",
   "version": "3.6.7"
  }
 },
 "nbformat": 4,
 "nbformat_minor": 2
}
